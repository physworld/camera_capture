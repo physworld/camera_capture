{
 "cells": [
  {
   "cell_type": "code",
   "execution_count": 10,
   "id": "saved-settle",
   "metadata": {},
   "outputs": [],
   "source": [
    "######## Imports ########\n",
    "import os\n",
    "import cv2\n",
    "from PIL import ImageGrab\n",
    "\n",
    "import matplotlib\n",
    "matplotlib.use(\"Qt5agg\") \n",
    "import matplotlib.pyplot as plt\n",
    "from matplotlib import gridspec\n",
    "\n",
    "import numpy as np\n",
    "from tensorflow.keras.models import model_from_json\n",
    "from tensorflow.keras.preprocessing import image"
   ]
  },
  {
   "cell_type": "code",
   "execution_count": 11,
   "id": "elementary-double",
   "metadata": {},
   "outputs": [],
   "source": [
    "# ######## LOAD MODEL #########\n",
    "model = model_from_json(open(\"fer2.json\", \"r\").read()) \n",
    "model.load_weights('fer2.h5') #load weights\n",
    "\n",
    "face_haar_cascade = cv2.CascadeClassifier('haarcascade_frontalface_default.xml') #load cascade"
   ]
  },
  {
   "cell_type": "code",
   "execution_count": 12,
   "id": "stable-chicken",
   "metadata": {},
   "outputs": [
    {
     "name": "stdout",
     "output_type": "stream",
     "text": [
      "['Solarize_Light2', '_classic_test_patch', 'bmh', 'classic', 'dark_background', 'fast', 'fivethirtyeight', 'ggplot', 'grayscale', 'seaborn', 'seaborn-bright', 'seaborn-colorblind', 'seaborn-dark', 'seaborn-dark-palette', 'seaborn-darkgrid', 'seaborn-deep', 'seaborn-muted', 'seaborn-notebook', 'seaborn-paper', 'seaborn-pastel', 'seaborn-poster', 'seaborn-talk', 'seaborn-ticks', 'seaborn-white', 'seaborn-whitegrid', 'tableau-colorblind10']\n"
     ]
    }
   ],
   "source": [
    "print(plt.style.available)"
   ]
  },
  {
   "cell_type": "code",
   "execution_count": 13,
   "id": "unknown-vulnerability",
   "metadata": {},
   "outputs": [],
   "source": [
    "######## Global Variables #########\n",
    "plt.style.use('ggplot')\n",
    "x_axis = np.arange(100)  # will be used in graphing. \n",
    "line1 = [] # will initaite the loop for live plotting.\n",
    "plot_array = np.full((7,100), 0) #create an array that will be updated with live values.\n",
    "counter= 1 #used to close every 10th window\n",
    "max_faces = 4 #sets a max number of faces to be recognized to protect performance.\n",
    "results_array = np.full((1,8), 0.0, dtype='float64')"
   ]
  },
  {
   "cell_type": "code",
   "execution_count": null,
   "id": "complicated-difficulty",
   "metadata": {},
   "outputs": [],
   "source": [
    "try:\n",
    "    cap = cv2.VideoCapture(0)\n",
    "\n",
    "    while True:\n",
    "        ret, img = cap.read()\n",
    "        gray = cv2.cvtColor(img, cv2.COLOR_BGR2GRAY)\n",
    "        faces = face_haar_cascade.detectMultiScale(gray, 1.3, 5)\n",
    " \n",
    "        for (x,y,w,h) in faces:\n",
    "            detected_face = img[int(y):int(y+h), int(x):int(x+w)] #crop detected face\n",
    "            detected_face = cv2.cvtColor(detected_face, cv2.COLOR_BGR2GRAY) #transform to gray scale\n",
    "            detected_face = cv2.resize(detected_face, (48, 48)) #resize to 48x48\n",
    "            img_pixels = image.img_to_array(detected_face)\n",
    "            img_pixels = np.expand_dims(img_pixels, axis = 0)\n",
    " \n",
    "            img_pixels /= 255\n",
    " \n",
    "            predictions = model.predict(img_pixels)\n",
    " \n",
    "            #find max indexed array\n",
    "            max_index = np.argmax(predictions[0])\n",
    " \n",
    "            emotions = ('angry', 'disgust', 'fear', 'happy', 'sad', 'surprise', 'neutral')\n",
    "            emotion = emotions[max_index]\n",
    " \n",
    "            cv2.putText(img, emotion, (int(x), int(y)), cv2.FONT_HERSHEY_SIMPLEX, 1, (255,255,255), 2)\n",
    "            cv2.rectangle(img,(x,y),(x+w,y+h),(255,0,0),2)\n",
    "        cv2.imshow('img', img)\n",
    "        if cv2.waitKey(1) & 0xFF == ord('q'):\n",
    "            break\n",
    "        \n",
    "    cap.release()\n",
    "    cv2.destroyAllWindows()\n",
    "except KeyboardInterrupt:\n",
    "\tcv2.destroyAllWindows()\n",
    "\t\n",
    "np.savetxt('emotion_results', results_array, delimiter=\",\")"
   ]
  },
  {
   "cell_type": "code",
   "execution_count": null,
   "id": "unlikely-mercury",
   "metadata": {},
   "outputs": [],
   "source": []
  }
 ],
 "metadata": {
  "kernelspec": {
   "display_name": "Python 3",
   "language": "python",
   "name": "python3"
  },
  "language_info": {
   "codemirror_mode": {
    "name": "ipython",
    "version": 3
   },
   "file_extension": ".py",
   "mimetype": "text/x-python",
   "name": "python",
   "nbconvert_exporter": "python",
   "pygments_lexer": "ipython3",
   "version": "3.8.8"
  }
 },
 "nbformat": 4,
 "nbformat_minor": 5
}
